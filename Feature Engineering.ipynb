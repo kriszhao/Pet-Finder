{
 "cells": [
  {
   "cell_type": "markdown",
   "metadata": {},
   "source": [
    "Our new strategy is to turn categorical data into embeddings and merge into our neural network. Based on the random forest features, we will drop unnecessary feature"
   ]
  },
  {
   "cell_type": "markdown",
   "metadata": {},
   "source": [
    "Categorical Data that needs to be turned into embeddings: Breed, Sterilized, Vaccinated, Maturity Size, Type, Fur Length, State, Dewormed, Gender, Color, Health, Name"
   ]
  },
  {
   "cell_type": "markdown",
   "metadata": {},
   "source": [
    "We will merge Bree1 and Breed2"
   ]
  },
  {
   "cell_type": "code",
   "execution_count": 1,
   "metadata": {},
   "outputs": [
    {
     "name": "stderr",
     "output_type": "stream",
     "text": [
      "Using TensorFlow backend.\n"
     ]
    }
   ],
   "source": [
    "import pandas as pd\n",
    "%matplotlib inline\n",
    "import matplotlib.pyplot as plt\n",
    "import seaborn as sns\n",
    "from sklearn import tree\n",
    "from sklearn.model_selection import train_test_split\n",
    "import numpy as np\n",
    "\n",
    "from keras.preprocessing.text import Tokenizer\n",
    "from keras.preprocessing.sequence import pad_sequences\n",
    "from keras.utils.np_utils import to_categorical\n",
    "\n",
    "\n",
    "from keras.layers import Dense, Input, Flatten, Reshape\n",
    "#from keras.layers import Conv1D, MaxPooling1D, Embedding, Merge, Dropout, LSTM, GRU, Bidirectional, concatenate\n",
    "from keras.layers import Conv1D, MaxPooling1D, Embedding, Dropout, LSTM, GRU, Bidirectional, Concatenate\n",
    "from keras.models import Model, Sequential\n",
    "\n",
    "from keras import backend as K\n",
    "from keras.engine.topology import Layer, InputSpec\n",
    "from keras import optimizers\n",
    "from keras import regularizers\n",
    "from keras.utils.layer_utils import print_summary\n",
    "from keras.callbacks import ModelCheckpoint\n",
    "from keras.callbacks import EarlyStopping\n",
    "from keras.callbacks import CSVLogger"
   ]
  },
  {
   "cell_type": "code",
   "execution_count": 2,
   "metadata": {},
   "outputs": [],
   "source": [
    "pet_data = pd.read_csv(\"./all/train.csv\", sep=\",\")"
   ]
  },
  {
   "cell_type": "code",
   "execution_count": 4,
   "metadata": {},
   "outputs": [],
   "source": [
    "pet_data = pd.read_csv(\"./all/train.csv\", sep=\",\")\n",
    "breed_labels = pd.read_csv('./all/breed_labels.csv')\n",
    "state_labels = pd.read_csv('./all/state_labels.csv')\n",
    "color_labels = pd.read_csv('./all/color_labels.csv')\n",
    "\n",
    "readable_pet_data = pet_data\n",
    "readable_pet_data['Breed1'] = readable_pet_data['Breed1'].map(breed_labels.set_index('BreedID')['BreedName'])\n",
    "readable_pet_data['Breed2'] = readable_pet_data['Breed2'].map(breed_labels.set_index('BreedID')['BreedName'])\n",
    "\n",
    "readable_pet_data['State'] = readable_pet_data['State'].map(state_labels.set_index('StateID')['StateName'])\n",
    "\n",
    "readable_pet_data['Color1'] = readable_pet_data['Color1'].map(color_labels.set_index('ColorID')['ColorName'])\n",
    "readable_pet_data['Color2'] = readable_pet_data['Color2'].map(color_labels.set_index('ColorID')['ColorName'])\n",
    "readable_pet_data['Color3'] = readable_pet_data['Color3'].map(color_labels.set_index('ColorID')['ColorName'])\n",
    "\n",
    "genderDict = {1:'Male', 2:'Female', 3:'Mixed'}\n",
    "typeDict = {1:'Dog', 2:'Cat'}\n",
    "maturityDict = {1: 'Small', 2: 'Medium', 3: 'Large', 4: 'Extra Large', 0: 'Not Specified'}\n",
    "healthDict = {1:'Healthy', 2:'Minor Injury', 3:'Serious Injury', 0:'Not Specified'}\n",
    "furDict = {1: 'Short', 2: 'Medium', 3: 'Long', 0: 'Not Specified'}\n",
    "\n",
    "readable_pet_data['Gender'] = readable_pet_data['Gender'].map(genderDict)\n",
    "readable_pet_data['Type'] = readable_pet_data['Type'].map(typeDict)\n",
    "readable_pet_data['MaturitySize'] = readable_pet_data['MaturitySize'].map(maturityDict)\n",
    "readable_pet_data['Health'] = readable_pet_data['Health'].map(healthDict)\n",
    "readable_pet_data['FurLength'] = readable_pet_data['FurLength'].map(furDict)"
   ]
  },
  {
   "cell_type": "code",
   "execution_count": 3,
   "metadata": {},
   "outputs": [],
   "source": [
    "categorical_vars = ['Type', 'Breed1', 'Breed2', 'Gender', 'Color1', 'Color2',\n",
    "        'Color3', 'MaturitySize', 'FurLength', 'Vaccinated', 'Dewormed',\n",
    "        'Sterilized', 'Health', 'State']\n",
    "numerical_vars = ['Age', 'Quantity', 'Fee', 'VideoAmt', 'PhotoAmt']"
   ]
  },
  {
   "cell_type": "code",
   "execution_count": 4,
   "metadata": {},
   "outputs": [
    {
     "ename": "NameError",
     "evalue": "name 'readable_pet_data' is not defined",
     "output_type": "error",
     "traceback": [
      "\u001b[1;31m---------------------------------------------------------------------------\u001b[0m",
      "\u001b[1;31mNameError\u001b[0m                                 Traceback (most recent call last)",
      "\u001b[1;32m<ipython-input-4-3a6156fad9fe>\u001b[0m in \u001b[0;36m<module>\u001b[1;34m\u001b[0m\n\u001b[1;32m----> 1\u001b[1;33m \u001b[0mreadable_pet_data\u001b[0m\u001b[1;33m.\u001b[0m\u001b[0maxes\u001b[0m\u001b[1;33m\u001b[0m\u001b[1;33m\u001b[0m\u001b[0m\n\u001b[0m",
      "\u001b[1;31mNameError\u001b[0m: name 'readable_pet_data' is not defined"
     ]
    }
   ],
   "source": [
    "readable_pet_data.axes"
   ]
  },
  {
   "cell_type": "code",
   "execution_count": 30,
   "metadata": {},
   "outputs": [],
   "source": [
    "embeddings = []\n",
    "inputs = []\n",
    "for categorical_var in categorical_vars :\n",
    "    i = Input(shape=(1,))\n",
    "    model = Sequential()\n",
    "    no_of_unique_cat  = pet_data[categorical_var].nunique()\n",
    "    embedding_size = min(np.ceil((no_of_unique_cat)/2), 50 )\n",
    "    embedding_size = int(embedding_size)\n",
    "    vocab  = no_of_unique_cat+1\n",
    "    embedding = Embedding(vocab ,embedding_size, input_length = 1 )(i)\n",
    "    embedding = Reshape(target_shape=(embedding_size,))(embedding)\n",
    "    embeddings.append( embedding )\n",
    "    inputs.append(i)"
   ]
  },
  {
   "cell_type": "code",
   "execution_count": 6,
   "metadata": {},
   "outputs": [],
   "source": [
    "input_numeric = Input(shape=(5,))\n",
    "embedding_numeric = Dense(16)(input_numeric) \n",
    "inputs.append(input_numeric)\n",
    "embeddings.append(embedding_numeric)"
   ]
  },
  {
   "cell_type": "code",
   "execution_count": 7,
   "metadata": {},
   "outputs": [
    {
     "data": {
      "text/plain": [
       "<tf.Tensor 'concatenate_1/concat:0' shape=(?, 149) dtype=float32>"
      ]
     },
     "execution_count": 7,
     "metadata": {},
     "output_type": "execute_result"
    }
   ],
   "source": [
    "Concatenate()(embeddings)"
   ]
  },
  {
   "cell_type": "code",
   "execution_count": 31,
   "metadata": {},
   "outputs": [],
   "source": [
    "x = Concatenate()(embeddings)\n",
    "x = Dense(80, activation='relu')(x)\n",
    "x = Dropout(.35)(x)\n",
    "x = Dense(20, activation='relu')(x)\n",
    "x = Dropout(.15)(x)\n",
    "x = Dense(10, activation='relu')(x)\n",
    "x = Dropout(.15)(x)\n",
    "output = Dense(1, activation='sigmoid')(x)\n",
    "\n",
    "model = Model(inputs, output)\n",
    "\n",
    "model.compile(loss='binary_crossentropy', optimizer='adam')"
   ]
  },
  {
   "cell_type": "code",
   "execution_count": 32,
   "metadata": {},
   "outputs": [
    {
     "name": "stdout",
     "output_type": "stream",
     "text": [
      "__________________________________________________________________________________________________\n",
      "Layer (type)                    Output Shape         Param #     Connected to                     \n",
      "==================================================================================================\n",
      "input_16 (InputLayer)           (None, 1)            0                                            \n",
      "__________________________________________________________________________________________________\n",
      "input_17 (InputLayer)           (None, 1)            0                                            \n",
      "__________________________________________________________________________________________________\n",
      "input_18 (InputLayer)           (None, 1)            0                                            \n",
      "__________________________________________________________________________________________________\n",
      "input_19 (InputLayer)           (None, 1)            0                                            \n",
      "__________________________________________________________________________________________________\n",
      "input_20 (InputLayer)           (None, 1)            0                                            \n",
      "__________________________________________________________________________________________________\n",
      "input_21 (InputLayer)           (None, 1)            0                                            \n",
      "__________________________________________________________________________________________________\n",
      "input_22 (InputLayer)           (None, 1)            0                                            \n",
      "__________________________________________________________________________________________________\n",
      "input_23 (InputLayer)           (None, 1)            0                                            \n",
      "__________________________________________________________________________________________________\n",
      "input_24 (InputLayer)           (None, 1)            0                                            \n",
      "__________________________________________________________________________________________________\n",
      "input_25 (InputLayer)           (None, 1)            0                                            \n",
      "__________________________________________________________________________________________________\n",
      "input_26 (InputLayer)           (None, 1)            0                                            \n",
      "__________________________________________________________________________________________________\n",
      "input_27 (InputLayer)           (None, 1)            0                                            \n",
      "__________________________________________________________________________________________________\n",
      "input_28 (InputLayer)           (None, 1)            0                                            \n",
      "__________________________________________________________________________________________________\n",
      "input_29 (InputLayer)           (None, 1)            0                                            \n",
      "__________________________________________________________________________________________________\n",
      "embedding_15 (Embedding)        (None, 1, 1)         3           input_16[0][0]                   \n",
      "__________________________________________________________________________________________________\n",
      "embedding_16 (Embedding)        (None, 1, 50)        8850        input_17[0][0]                   \n",
      "__________________________________________________________________________________________________\n",
      "embedding_17 (Embedding)        (None, 1, 50)        6800        input_18[0][0]                   \n",
      "__________________________________________________________________________________________________\n",
      "embedding_18 (Embedding)        (None, 1, 2)         8           input_19[0][0]                   \n",
      "__________________________________________________________________________________________________\n",
      "embedding_19 (Embedding)        (None, 1, 4)         32          input_20[0][0]                   \n",
      "__________________________________________________________________________________________________\n",
      "embedding_20 (Embedding)        (None, 1, 4)         32          input_21[0][0]                   \n",
      "__________________________________________________________________________________________________\n",
      "embedding_21 (Embedding)        (None, 1, 3)         21          input_22[0][0]                   \n",
      "__________________________________________________________________________________________________\n",
      "embedding_22 (Embedding)        (None, 1, 2)         10          input_23[0][0]                   \n",
      "__________________________________________________________________________________________________\n",
      "embedding_23 (Embedding)        (None, 1, 2)         8           input_24[0][0]                   \n",
      "__________________________________________________________________________________________________\n",
      "embedding_24 (Embedding)        (None, 1, 2)         8           input_25[0][0]                   \n",
      "__________________________________________________________________________________________________\n",
      "embedding_25 (Embedding)        (None, 1, 2)         8           input_26[0][0]                   \n",
      "__________________________________________________________________________________________________\n",
      "embedding_26 (Embedding)        (None, 1, 2)         8           input_27[0][0]                   \n",
      "__________________________________________________________________________________________________\n",
      "embedding_27 (Embedding)        (None, 1, 2)         8           input_28[0][0]                   \n",
      "__________________________________________________________________________________________________\n",
      "embedding_28 (Embedding)        (None, 1, 7)         105         input_29[0][0]                   \n",
      "__________________________________________________________________________________________________\n",
      "reshape_15 (Reshape)            (None, 1)            0           embedding_15[0][0]               \n",
      "__________________________________________________________________________________________________\n",
      "reshape_16 (Reshape)            (None, 50)           0           embedding_16[0][0]               \n",
      "__________________________________________________________________________________________________\n",
      "reshape_17 (Reshape)            (None, 50)           0           embedding_17[0][0]               \n",
      "__________________________________________________________________________________________________\n",
      "reshape_18 (Reshape)            (None, 2)            0           embedding_18[0][0]               \n",
      "__________________________________________________________________________________________________\n",
      "reshape_19 (Reshape)            (None, 4)            0           embedding_19[0][0]               \n",
      "__________________________________________________________________________________________________\n",
      "reshape_20 (Reshape)            (None, 4)            0           embedding_20[0][0]               \n",
      "__________________________________________________________________________________________________\n",
      "reshape_21 (Reshape)            (None, 3)            0           embedding_21[0][0]               \n",
      "__________________________________________________________________________________________________\n",
      "reshape_22 (Reshape)            (None, 2)            0           embedding_22[0][0]               \n",
      "__________________________________________________________________________________________________\n",
      "reshape_23 (Reshape)            (None, 2)            0           embedding_23[0][0]               \n",
      "__________________________________________________________________________________________________\n",
      "reshape_24 (Reshape)            (None, 2)            0           embedding_24[0][0]               \n",
      "__________________________________________________________________________________________________\n",
      "reshape_25 (Reshape)            (None, 2)            0           embedding_25[0][0]               \n",
      "__________________________________________________________________________________________________\n",
      "reshape_26 (Reshape)            (None, 2)            0           embedding_26[0][0]               \n",
      "__________________________________________________________________________________________________\n",
      "reshape_27 (Reshape)            (None, 2)            0           embedding_27[0][0]               \n",
      "__________________________________________________________________________________________________\n",
      "reshape_28 (Reshape)            (None, 7)            0           embedding_28[0][0]               \n",
      "__________________________________________________________________________________________________\n",
      "concatenate_3 (Concatenate)     (None, 133)          0           reshape_15[0][0]                 \n",
      "                                                                 reshape_16[0][0]                 \n",
      "                                                                 reshape_17[0][0]                 \n",
      "                                                                 reshape_18[0][0]                 \n",
      "                                                                 reshape_19[0][0]                 \n",
      "                                                                 reshape_20[0][0]                 \n",
      "                                                                 reshape_21[0][0]                 \n",
      "                                                                 reshape_22[0][0]                 \n",
      "                                                                 reshape_23[0][0]                 \n",
      "                                                                 reshape_24[0][0]                 \n",
      "                                                                 reshape_25[0][0]                 \n",
      "                                                                 reshape_26[0][0]                 \n",
      "                                                                 reshape_27[0][0]                 \n",
      "                                                                 reshape_28[0][0]                 \n",
      "__________________________________________________________________________________________________\n",
      "dense_6 (Dense)                 (None, 80)           10720       concatenate_3[0][0]              \n",
      "__________________________________________________________________________________________________\n",
      "dropout_4 (Dropout)             (None, 80)           0           dense_6[0][0]                    \n",
      "__________________________________________________________________________________________________\n",
      "dense_7 (Dense)                 (None, 20)           1620        dropout_4[0][0]                  \n",
      "__________________________________________________________________________________________________\n",
      "dropout_5 (Dropout)             (None, 20)           0           dense_7[0][0]                    \n",
      "__________________________________________________________________________________________________\n",
      "dense_8 (Dense)                 (None, 10)           210         dropout_5[0][0]                  \n",
      "__________________________________________________________________________________________________\n",
      "dropout_6 (Dropout)             (None, 10)           0           dense_8[0][0]                    \n",
      "__________________________________________________________________________________________________\n",
      "dense_9 (Dense)                 (None, 1)            11          dropout_6[0][0]                  \n",
      "==================================================================================================\n",
      "Total params: 28,462\n",
      "Trainable params: 28,462\n",
      "Non-trainable params: 0\n",
      "__________________________________________________________________________________________________\n"
     ]
    }
   ],
   "source": [
    "model.summary()"
   ]
  },
  {
   "cell_type": "code",
   "execution_count": 10,
   "metadata": {},
   "outputs": [],
   "source": [
    "p = pet_data[categorical_vars + numerical_vars]"
   ]
  },
  {
   "cell_type": "code",
   "execution_count": 52,
   "metadata": {},
   "outputs": [],
   "source": [
    "def preproc(X_train, X_val, X_test):\n",
    "\n",
    "    input_list_train = []\n",
    "    input_list_val = []\n",
    "    input_list_test = []\n",
    "    \n",
    "    #the cols to be embedded: rescaling to range [0, # values)\n",
    "    for c in embed_cols:\n",
    "        raw_vals = np.unique(X_train[c])\n",
    "        val_map = {}\n",
    "        for i in range(len(raw_vals)):\n",
    "            val_map[raw_vals[i]] = i       \n",
    "        input_list_train.append(X_train[c].map(val_map).values)\n",
    "        input_list_val.append(X_val[c].map(val_map).fillna(0).values)\n",
    "        input_list_test.append(X_test[c].map(val_map).fillna(0).values)\n",
    "     \n",
    "    #the rest of the columns\n",
    "    #other_cols = [c for c in X_train.columns if (not c in embed_cols)]\n",
    "    #input_list_train.append(X_train[other_cols].values)\n",
    "    #input_list_val.append(X_val[other_cols].values)\n",
    "    #input_list_test.append(X_test[other_cols].values)\n",
    "    \n",
    "    return input_list_train, input_list_val, input_list_test"
   ]
  },
  {
   "cell_type": "code",
   "execution_count": 53,
   "metadata": {},
   "outputs": [],
   "source": [
    "embed_cols = categorical_vars\n",
    "#embed_cols = categorical_vars + numerical_vars\n",
    "p1 = preproc(p, p, p)"
   ]
  },
  {
   "cell_type": "code",
   "execution_count": 54,
   "metadata": {},
   "outputs": [
    {
     "data": {
      "text/plain": [
       "([array([1, 1, 0, ..., 1, 1, 0], dtype=int64),\n",
       "  array([167, 136, 175, ..., 136, 137, 175], dtype=int64),\n",
       "  array([  0,   0,   0, ..., 102,   0, 134], dtype=int64),\n",
       "  array([0, 0, 0, ..., 2, 1, 0], dtype=int64),\n",
       "  array([0, 0, 1, ..., 4, 3, 1], dtype=int64),\n",
       "  array([6, 1, 6, ..., 5, 6, 0], dtype=int64),\n",
       "  array([0, 0, 0, ..., 5, 0, 0], dtype=int64),\n",
       "  array([0, 1, 1, ..., 2, 0, 1], dtype=int64),\n",
       "  array([0, 1, 1, ..., 1, 0, 0], dtype=int64),\n",
       "  array([1, 2, 0, ..., 1, 0, 1], dtype=int64),\n",
       "  array([1, 2, 0, ..., 0, 0, 1], dtype=int64),\n",
       "  array([1, 2, 1, ..., 2, 0, 1], dtype=int64),\n",
       "  array([0, 0, 0, ..., 0, 0, 0], dtype=int64),\n",
       "  array([ 2, 12,  2, ...,  2,  7,  5], dtype=int64)],\n",
       " [array([1, 1, 0, ..., 1, 1, 0], dtype=int64),\n",
       "  array([167, 136, 175, ..., 136, 137, 175], dtype=int64),\n",
       "  array([  0,   0,   0, ..., 102,   0, 134], dtype=int64),\n",
       "  array([0, 0, 0, ..., 2, 1, 0], dtype=int64),\n",
       "  array([0, 0, 1, ..., 4, 3, 1], dtype=int64),\n",
       "  array([6, 1, 6, ..., 5, 6, 0], dtype=int64),\n",
       "  array([0, 0, 0, ..., 5, 0, 0], dtype=int64),\n",
       "  array([0, 1, 1, ..., 2, 0, 1], dtype=int64),\n",
       "  array([0, 1, 1, ..., 1, 0, 0], dtype=int64),\n",
       "  array([1, 2, 0, ..., 1, 0, 1], dtype=int64),\n",
       "  array([1, 2, 0, ..., 0, 0, 1], dtype=int64),\n",
       "  array([1, 2, 1, ..., 2, 0, 1], dtype=int64),\n",
       "  array([0, 0, 0, ..., 0, 0, 0], dtype=int64),\n",
       "  array([ 2, 12,  2, ...,  2,  7,  5], dtype=int64)],\n",
       " [array([1, 1, 0, ..., 1, 1, 0], dtype=int64),\n",
       "  array([167, 136, 175, ..., 136, 137, 175], dtype=int64),\n",
       "  array([  0,   0,   0, ..., 102,   0, 134], dtype=int64),\n",
       "  array([0, 0, 0, ..., 2, 1, 0], dtype=int64),\n",
       "  array([0, 0, 1, ..., 4, 3, 1], dtype=int64),\n",
       "  array([6, 1, 6, ..., 5, 6, 0], dtype=int64),\n",
       "  array([0, 0, 0, ..., 5, 0, 0], dtype=int64),\n",
       "  array([0, 1, 1, ..., 2, 0, 1], dtype=int64),\n",
       "  array([0, 1, 1, ..., 1, 0, 0], dtype=int64),\n",
       "  array([1, 2, 0, ..., 1, 0, 1], dtype=int64),\n",
       "  array([1, 2, 0, ..., 0, 0, 1], dtype=int64),\n",
       "  array([1, 2, 1, ..., 2, 0, 1], dtype=int64),\n",
       "  array([0, 0, 0, ..., 0, 0, 0], dtype=int64),\n",
       "  array([ 2, 12,  2, ...,  2,  7,  5], dtype=int64)])"
      ]
     },
     "execution_count": 54,
     "metadata": {},
     "output_type": "execute_result"
    }
   ],
   "source": [
    "p1"
   ]
  },
  {
   "cell_type": "code",
   "execution_count": 90,
   "metadata": {
    "scrolled": true
   },
   "outputs": [
    {
     "name": "stdout",
     "output_type": "stream",
     "text": [
      "Epoch 1/10\n",
      "14993/14993 [==============================] - 4s 237us/step - loss: -24.1580\n",
      "Epoch 2/10\n",
      "14993/14993 [==============================] - 4s 234us/step - loss: -24.1652\n",
      "Epoch 3/10\n",
      "14993/14993 [==============================] - 4s 234us/step - loss: -24.1541\n",
      "Epoch 4/10\n",
      "14993/14993 [==============================] - 4s 233us/step - loss: -24.1662\n",
      "Epoch 5/10\n",
      "14993/14993 [==============================] - 4s 234us/step - loss: -24.1702\n",
      "Epoch 6/10\n",
      "14993/14993 [==============================] - 4s 236us/step - loss: -24.1620\n",
      "Epoch 7/10\n",
      "14993/14993 [==============================] - 4s 238us/step - loss: -24.1542\n",
      "Epoch 8/10\n",
      "14993/14993 [==============================] - 4s 238us/step - loss: -24.1637\n",
      "Epoch 9/10\n",
      "14993/14993 [==============================] - 4s 237us/step - loss: -24.1628\n",
      "Epoch 10/10\n",
      "14993/14993 [==============================] - 4s 236us/step - loss: -24.1688\n"
     ]
    },
    {
     "data": {
      "text/plain": [
       "<keras.callbacks.History at 0x23293d31080>"
      ]
     },
     "execution_count": 90,
     "metadata": {},
     "output_type": "execute_result"
    }
   ],
   "source": [
    "model.fit(p1[0], pet_data.AdoptionSpeed, epochs=10)"
   ]
  },
  {
   "cell_type": "code",
   "execution_count": 72,
   "metadata": {},
   "outputs": [
    {
     "ename": "TypeError",
     "evalue": "'int' object is not callable",
     "output_type": "error",
     "traceback": [
      "\u001b[1;31m---------------------------------------------------------------------------\u001b[0m",
      "\u001b[1;31mTypeError\u001b[0m                                 Traceback (most recent call last)",
      "\u001b[1;32m<ipython-input-72-d468fe5cc856>\u001b[0m in \u001b[0;36m<module>\u001b[1;34m\u001b[0m\n\u001b[1;32m----> 1\u001b[1;33m \u001b[0mpet_data\u001b[0m\u001b[1;33m.\u001b[0m\u001b[0mAdoptionSpeed\u001b[0m\u001b[1;33m.\u001b[0m\u001b[0mndim\u001b[0m\u001b[1;33m(\u001b[0m\u001b[1;33m)\u001b[0m\u001b[1;33m\u001b[0m\u001b[1;33m\u001b[0m\u001b[0m\n\u001b[0m",
      "\u001b[1;31mTypeError\u001b[0m: 'int' object is not callable"
     ]
    }
   ],
   "source": [
    "pet_data.AdoptionSpeed.ndim()"
   ]
  },
  {
   "cell_type": "code",
   "execution_count": 88,
   "metadata": {},
   "outputs": [
    {
     "data": {
      "text/plain": [
       "[array([1, 1, 0, ..., 1, 1, 0], dtype=int64),\n",
       " array([167, 136, 175, ..., 136, 137, 175], dtype=int64),\n",
       " array([  0,   0,   0, ..., 102,   0, 134], dtype=int64),\n",
       " array([0, 0, 0, ..., 2, 1, 0], dtype=int64),\n",
       " array([0, 0, 1, ..., 4, 3, 1], dtype=int64),\n",
       " array([6, 1, 6, ..., 5, 6, 0], dtype=int64),\n",
       " array([0, 0, 0, ..., 5, 0, 0], dtype=int64),\n",
       " array([0, 1, 1, ..., 2, 0, 1], dtype=int64),\n",
       " array([0, 1, 1, ..., 1, 0, 0], dtype=int64),\n",
       " array([1, 2, 0, ..., 1, 0, 1], dtype=int64),\n",
       " array([1, 2, 0, ..., 0, 0, 1], dtype=int64),\n",
       " array([1, 2, 1, ..., 2, 0, 1], dtype=int64),\n",
       " array([0, 0, 0, ..., 0, 0, 0], dtype=int64),\n",
       " array([ 2, 12,  2, ...,  2,  7,  5], dtype=int64)]"
      ]
     },
     "execution_count": 88,
     "metadata": {},
     "output_type": "execute_result"
    }
   ],
   "source": [
    "p1[0]"
   ]
  }
 ],
 "metadata": {
  "kernelspec": {
   "display_name": "Python 3",
   "language": "python",
   "name": "python3"
  },
  "language_info": {
   "codemirror_mode": {
    "name": "ipython",
    "version": 3
   },
   "file_extension": ".py",
   "mimetype": "text/x-python",
   "name": "python",
   "nbconvert_exporter": "python",
   "pygments_lexer": "ipython3",
   "version": "3.6.7"
  }
 },
 "nbformat": 4,
 "nbformat_minor": 2
}
