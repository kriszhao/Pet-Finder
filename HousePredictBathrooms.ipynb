{
 "cells": [
  {
   "cell_type": "code",
   "execution_count": 1,
   "metadata": {},
   "outputs": [
    {
     "name": "stderr",
     "output_type": "stream",
     "text": [
      "Using TensorFlow backend.\n"
     ]
    }
   ],
   "source": [
    "from sklearn.preprocessing import LabelBinarizer\n",
    "from sklearn.preprocessing import MinMaxScaler\n",
    "import pandas as pd\n",
    "import numpy as np\n",
    "import glob\n",
    "import cv2\n",
    "import os\n",
    "from keras.models import Sequential\n",
    "from keras.layers.normalization import BatchNormalization\n",
    "from keras.layers.convolutional import Conv2D\n",
    "from keras.layers.convolutional import MaxPooling2D\n",
    "from keras.layers.core import Activation\n",
    "from keras.layers.core import Dropout\n",
    "from keras.layers.core import Dense\n",
    "from keras.layers import Flatten\n",
    "from keras.layers import Input\n",
    "from keras.models import Model\n",
    "from sklearn.model_selection import train_test_split\n",
    "from keras.layers.core import Dense\n",
    "from keras.models import Model\n",
    "from keras.optimizers import Adam\n",
    "from keras.layers import concatenate\n",
    "import numpy as np\n",
    "import argparse\n",
    "import locale\n",
    "from keras.utils import np_utils\n",
    "import matplotlib.pyplot as plt\n",
    "import numpy as np\n",
    "np.random.seed(1337)  # for reproducibility\n",
    "from keras.datasets import mnist\n",
    "from keras.utils import np_utils\n",
    "from keras.models import Sequential\n",
    "from keras.layers import Dense, Activation\n",
    "from keras.optimizers import RMSprop"
   ]
  },
  {
   "cell_type": "code",
   "execution_count": 2,
   "metadata": {},
   "outputs": [],
   "source": [
    "\tcols = [\"bedrooms\", \"bathrooms\", \"area\", \"zipcode\", \"price\"]\n",
    "\tdf = pd.read_csv('HousesInfo.txt', sep=\" \", header=None, names=cols)\n",
    "\t# determine (1) the unique zip codes and (2) the number of data\n",
    "\t# points with each zip code\n",
    "\tzipcodes = df[\"zipcode\"].value_counts().keys().tolist()\n",
    "\tcounts = df[\"zipcode\"].value_counts().tolist()\n",
    "\n",
    "\t# loop over each of the unique zip codes and their corresponding\n",
    "\t# count\n",
    "\tfor (zipcode, count) in zip(zipcodes, counts):\n",
    "\t\t# the zip code counts for our housing dataset is *extremely*\n",
    "\t\t# unbalanced (some only having 1 or 2 houses per zip code)\n",
    "\t\t# so let's sanitize our data by removing any houses with less\n",
    "\t\t# than 25 houses per zip code\n",
    "\t\tif count < 25:\n",
    "\t\t\tidxs = df[df[\"zipcode\"] == zipcode].index\n",
    "\t\t\tdf.drop(idxs, inplace=True)"
   ]
  },
  {
   "cell_type": "code",
   "execution_count": 24,
   "metadata": {},
   "outputs": [
    {
     "data": {
      "text/html": [
       "<div>\n",
       "<style scoped>\n",
       "    .dataframe tbody tr th:only-of-type {\n",
       "        vertical-align: middle;\n",
       "    }\n",
       "\n",
       "    .dataframe tbody tr th {\n",
       "        vertical-align: top;\n",
       "    }\n",
       "\n",
       "    .dataframe thead th {\n",
       "        text-align: right;\n",
       "    }\n",
       "</style>\n",
       "<table border=\"1\" class=\"dataframe\">\n",
       "  <thead>\n",
       "    <tr style=\"text-align: right;\">\n",
       "      <th></th>\n",
       "      <th>bedrooms</th>\n",
       "      <th>bathrooms</th>\n",
       "      <th>area</th>\n",
       "      <th>zipcode</th>\n",
       "      <th>price</th>\n",
       "    </tr>\n",
       "  </thead>\n",
       "  <tbody>\n",
       "    <tr>\n",
       "      <th>30</th>\n",
       "      <td>5</td>\n",
       "      <td>3</td>\n",
       "      <td>2520</td>\n",
       "      <td>93446</td>\n",
       "      <td>0.134688</td>\n",
       "    </tr>\n",
       "    <tr>\n",
       "      <th>32</th>\n",
       "      <td>3</td>\n",
       "      <td>2</td>\n",
       "      <td>1802</td>\n",
       "      <td>93446</td>\n",
       "      <td>0.062308</td>\n",
       "    </tr>\n",
       "    <tr>\n",
       "      <th>39</th>\n",
       "      <td>3</td>\n",
       "      <td>3</td>\n",
       "      <td>2146</td>\n",
       "      <td>93446</td>\n",
       "      <td>0.077672</td>\n",
       "    </tr>\n",
       "    <tr>\n",
       "      <th>80</th>\n",
       "      <td>4</td>\n",
       "      <td>2</td>\n",
       "      <td>2464</td>\n",
       "      <td>91901</td>\n",
       "      <td>0.102253</td>\n",
       "    </tr>\n",
       "    <tr>\n",
       "      <th>81</th>\n",
       "      <td>2</td>\n",
       "      <td>2</td>\n",
       "      <td>1845</td>\n",
       "      <td>91901</td>\n",
       "      <td>0.090440</td>\n",
       "    </tr>\n",
       "  </tbody>\n",
       "</table>\n",
       "</div>"
      ],
      "text/plain": [
       "    bedrooms  bathrooms  area  zipcode     price\n",
       "30         5          3  2520    93446  0.134688\n",
       "32         3          2  1802    93446  0.062308\n",
       "39         3          3  2146    93446  0.077672\n",
       "80         4          2  2464    91901  0.102253\n",
       "81         2          2  1845    91901  0.090440"
      ]
     },
     "execution_count": 24,
     "metadata": {},
     "output_type": "execute_result"
    }
   ],
   "source": [
    "df.head()"
   ]
  },
  {
   "cell_type": "code",
   "execution_count": 3,
   "metadata": {},
   "outputs": [],
   "source": [
    "%matplotlib inline\n",
    "plt.style.use('ggplot')"
   ]
  },
  {
   "cell_type": "code",
   "execution_count": 4,
   "metadata": {},
   "outputs": [
    {
     "data": {
      "image/png": "[encoded data removed]",
      "text/plain": [
       "<Figure size 432x288 with 1 Axes>"
      ]
     },
     "metadata": {},
     "output_type": "display_data"
    }
   ],
   "source": [
    "df['bedrooms'].value_counts().sort_index().plot('barh', color='teal');\n",
    "plt.title('Adoption speed classes counts');"
   ]
  },
  {
   "cell_type": "code",
   "execution_count": 5,
   "metadata": {},
   "outputs": [
    {
     "data": {
      "image/png": "[encoded data removed]",
      "text/plain": [
       "<Figure size 432x288 with 1 Axes>"
      ]
     },
     "metadata": {},
     "output_type": "display_data"
    }
   ],
   "source": [
    "df['bathrooms'].value_counts().sort_index().plot('barh', color='teal');\n",
    "plt.title('Adoption speed classes counts');"
   ]
  },
  {
   "cell_type": "code",
   "execution_count": 6,
   "metadata": {},
   "outputs": [],
   "source": [
    "df['bathrooms']=df['bathrooms'].astype(int)"
   ]
  },
  {
   "cell_type": "code",
   "execution_count": 7,
   "metadata": {},
   "outputs": [
    {
     "data": {
      "image/png": "[encoded data removed]",
      "text/plain": [
       "<Figure size 432x288 with 1 Axes>"
      ]
     },
     "metadata": {},
     "output_type": "display_data"
    }
   ],
   "source": [
    "df['bathrooms'].value_counts().sort_index().plot('barh', color='teal');\n",
    "plt.title('Adoption speed classes counts');"
   ]
  },
  {
   "cell_type": "code",
   "execution_count": null,
   "metadata": {},
   "outputs": [],
   "source": []
  },
  {
   "cell_type": "code",
   "execution_count": 8,
   "metadata": {},
   "outputs": [],
   "source": [
    "y_train = np_utils.to_categorical(df['bathrooms'], num_classes=8)"
   ]
  },
  {
   "cell_type": "code",
   "execution_count": 9,
   "metadata": {},
   "outputs": [],
   "source": [
    "maxPrice = df[\"price\"].max()"
   ]
  },
  {
   "cell_type": "code",
   "execution_count": 10,
   "metadata": {},
   "outputs": [],
   "source": [
    "  df[\"price\"]= df[\"price\"] / maxPrice"
   ]
  },
  {
   "cell_type": "code",
   "execution_count": 11,
   "metadata": {},
   "outputs": [
    {
     "name": "stderr",
     "output_type": "stream",
     "text": [
      "/Users/zekunzhao/venv/lib/python3.6/site-packages/sklearn/preprocessing/data.py:323: DataConversionWarning: Data with input dtype int64, float64 were all converted to float64 by MinMaxScaler.\n",
      "  return self.partial_fit(X, y)\n"
     ]
    }
   ],
   "source": [
    "\tcontinuous = [\"bedrooms\", \"area\",\"price\"]\n",
    "\n",
    "\t# performin min-max scaling each continuous feature column to\n",
    "\t# the range [0, 1]\n",
    "\tcs = MinMaxScaler()\n",
    "\ttrainContinuous = cs.fit_transform(df[continuous])"
   ]
  },
  {
   "cell_type": "code",
   "execution_count": 27,
   "metadata": {},
   "outputs": [
    {
     "name": "stdout",
     "output_type": "stream",
     "text": [
      "[[0.44444444 0.288776   0.129337  ]\n",
      " [0.22222222 0.17478965 0.05650979]\n",
      " [0.22222222 0.22940149 0.0719684 ]\n",
      " ...\n",
      " [0.22222222 0.10128592 0.05305737]\n",
      " [0.22222222 0.12240038 0.04706201]\n",
      " [0.33333333 0.31433561 0.09206458]]\n"
     ]
    }
   ],
   "source": [
    "print(trainContinuous)"
   ]
  },
  {
   "cell_type": "code",
   "execution_count": 12,
   "metadata": {},
   "outputs": [],
   "source": [
    "\tzipBinarizer = LabelBinarizer().fit(df[\"zipcode\"])\n",
    "\ttrainCategorical = zipBinarizer.transform(df[\"zipcode\"])"
   ]
  },
  {
   "cell_type": "code",
   "execution_count": 26,
   "metadata": {},
   "outputs": [
    {
     "name": "stdout",
     "output_type": "stream",
     "text": [
      "[[0 0 0 ... 1 0 0]\n",
      " [0 0 0 ... 1 0 0]\n",
      " [0 0 0 ... 1 0 0]\n",
      " ...\n",
      " [0 0 0 ... 1 0 0]\n",
      " [0 0 0 ... 1 0 0]\n",
      " [0 0 0 ... 1 0 0]]\n"
     ]
    }
   ],
   "source": [
    "print(trainCategorical)"
   ]
  },
  {
   "cell_type": "code",
   "execution_count": 13,
   "metadata": {},
   "outputs": [],
   "source": [
    "x_train = np.hstack([trainCategorical, trainContinuous])"
   ]
  },
  {
   "cell_type": "code",
   "execution_count": 14,
   "metadata": {},
   "outputs": [],
   "source": [
    "model = Sequential([\n",
    "    Dense(32, input_dim=10),\n",
    "    Activation('relu'),\n",
    "    Dense(8),\n",
    "    Activation('sigmoid'),\n",
    "])\n",
    "#softmax"
   ]
  },
  {
   "cell_type": "code",
   "execution_count": 21,
   "metadata": {},
   "outputs": [],
   "source": [
    "rmsprop = RMSprop(lr=0.001, rho=0.9, epsilon=1e-08, decay=0.0)\n",
    "# We add metrics to get more results you want to see\n",
    "#categorical_crossentropy--mse\n",
    "model.compile(optimizer=rmsprop,\n",
    "              loss='mse',\n",
    "              metrics=['accuracy'])"
   ]
  },
  {
   "cell_type": "code",
   "execution_count": 22,
   "metadata": {},
   "outputs": [
    {
     "name": "stdout",
     "output_type": "stream",
     "text": [
      "Epoch 1/200\n",
      "362/362 [==============================] - 0s 400us/step - loss: 0.0466 - acc: 0.7569\n",
      "Epoch 2/200\n",
      "362/362 [==============================] - 0s 84us/step - loss: 0.0464 - acc: 0.7514\n",
      "Epoch 3/200\n",
      "362/362 [==============================] - 0s 84us/step - loss: 0.0464 - acc: 0.7431\n",
      "Epoch 4/200\n",
      "362/362 [==============================] - 0s 80us/step - loss: 0.0464 - acc: 0.7431\n",
      "Epoch 5/200\n",
      "362/362 [==============================] - 0s 84us/step - loss: 0.0463 - acc: 0.7431\n",
      "Epoch 6/200\n",
      "362/362 [==============================] - 0s 95us/step - loss: 0.0463 - acc: 0.7459\n",
      "Epoch 7/200\n",
      "362/362 [==============================] - 0s 101us/step - loss: 0.0463 - acc: 0.7514\n",
      "Epoch 8/200\n",
      "362/362 [==============================] - 0s 97us/step - loss: 0.0463 - acc: 0.7569\n",
      "Epoch 9/200\n",
      "362/362 [==============================] - 0s 95us/step - loss: 0.0462 - acc: 0.7403\n",
      "Epoch 10/200\n",
      "362/362 [==============================] - 0s 99us/step - loss: 0.0463 - acc: 0.7541\n",
      "Epoch 11/200\n",
      "362/362 [==============================] - 0s 95us/step - loss: 0.0462 - acc: 0.7431\n",
      "Epoch 12/200\n",
      "362/362 [==============================] - 0s 81us/step - loss: 0.0462 - acc: 0.7459\n",
      "Epoch 13/200\n",
      "362/362 [==============================] - 0s 70us/step - loss: 0.0461 - acc: 0.7569\n",
      "Epoch 14/200\n",
      "362/362 [==============================] - 0s 85us/step - loss: 0.0461 - acc: 0.7486\n",
      "Epoch 15/200\n",
      "362/362 [==============================] - 0s 94us/step - loss: 0.0461 - acc: 0.7403\n",
      "Epoch 16/200\n",
      "362/362 [==============================] - 0s 85us/step - loss: 0.0461 - acc: 0.7569\n",
      "Epoch 17/200\n",
      "362/362 [==============================] - 0s 82us/step - loss: 0.0461 - acc: 0.7459\n",
      "Epoch 18/200\n",
      "362/362 [==============================] - 0s 94us/step - loss: 0.0460 - acc: 0.7459\n",
      "Epoch 19/200\n",
      "362/362 [==============================] - 0s 88us/step - loss: 0.0460 - acc: 0.7486\n",
      "Epoch 20/200\n",
      "362/362 [==============================] - 0s 98us/step - loss: 0.0460 - acc: 0.7403\n",
      "Epoch 21/200\n",
      "362/362 [==============================] - 0s 90us/step - loss: 0.0460 - acc: 0.7597\n",
      "Epoch 22/200\n",
      "362/362 [==============================] - 0s 105us/step - loss: 0.0459 - acc: 0.7459\n",
      "Epoch 23/200\n",
      "362/362 [==============================] - 0s 112us/step - loss: 0.0459 - acc: 0.7514\n",
      "Epoch 24/200\n",
      "362/362 [==============================] - 0s 97us/step - loss: 0.0458 - acc: 0.7459\n",
      "Epoch 25/200\n",
      "362/362 [==============================] - 0s 82us/step - loss: 0.0458 - acc: 0.7486\n",
      "Epoch 26/200\n",
      "362/362 [==============================] - 0s 100us/step - loss: 0.0458 - acc: 0.7486\n",
      "Epoch 27/200\n",
      "362/362 [==============================] - 0s 77us/step - loss: 0.0458 - acc: 0.7597\n",
      "Epoch 28/200\n",
      "362/362 [==============================] - 0s 95us/step - loss: 0.0458 - acc: 0.7541\n",
      "Epoch 29/200\n",
      "362/362 [==============================] - 0s 79us/step - loss: 0.0457 - acc: 0.7514\n",
      "Epoch 30/200\n",
      "362/362 [==============================] - 0s 103us/step - loss: 0.0457 - acc: 0.7569\n",
      "Epoch 31/200\n",
      "362/362 [==============================] - 0s 83us/step - loss: 0.0457 - acc: 0.7486\n",
      "Epoch 32/200\n",
      "362/362 [==============================] - 0s 97us/step - loss: 0.0457 - acc: 0.7486\n",
      "Epoch 33/200\n",
      "362/362 [==============================] - 0s 84us/step - loss: 0.0456 - acc: 0.7569\n",
      "Epoch 34/200\n",
      "362/362 [==============================] - 0s 85us/step - loss: 0.0456 - acc: 0.7514\n",
      "Epoch 35/200\n",
      "362/362 [==============================] - 0s 95us/step - loss: 0.0456 - acc: 0.7569\n",
      "Epoch 36/200\n",
      "362/362 [==============================] - 0s 108us/step - loss: 0.0456 - acc: 0.7541\n",
      "Epoch 37/200\n",
      "362/362 [==============================] - 0s 101us/step - loss: 0.0455 - acc: 0.7541\n",
      "Epoch 38/200\n",
      "362/362 [==============================] - 0s 97us/step - loss: 0.0455 - acc: 0.7624\n",
      "Epoch 39/200\n",
      "362/362 [==============================] - 0s 95us/step - loss: 0.0456 - acc: 0.7541\n",
      "Epoch 40/200\n",
      "362/362 [==============================] - 0s 90us/step - loss: 0.0454 - acc: 0.7597\n",
      "Epoch 41/200\n",
      "362/362 [==============================] - 0s 86us/step - loss: 0.0454 - acc: 0.7459\n",
      "Epoch 42/200\n",
      "362/362 [==============================] - 0s 94us/step - loss: 0.0454 - acc: 0.7597\n",
      "Epoch 43/200\n",
      "362/362 [==============================] - 0s 86us/step - loss: 0.0454 - acc: 0.7597\n",
      "Epoch 44/200\n",
      "362/362 [==============================] - 0s 87us/step - loss: 0.0454 - acc: 0.7624\n",
      "Epoch 45/200\n",
      "362/362 [==============================] - 0s 90us/step - loss: 0.0454 - acc: 0.7541\n",
      "Epoch 46/200\n",
      "362/362 [==============================] - 0s 94us/step - loss: 0.0453 - acc: 0.7597\n",
      "Epoch 47/200\n",
      "362/362 [==============================] - 0s 87us/step - loss: 0.0453 - acc: 0.7569\n",
      "Epoch 48/200\n",
      "362/362 [==============================] - 0s 90us/step - loss: 0.0453 - acc: 0.7569\n",
      "Epoch 49/200\n",
      "362/362 [==============================] - 0s 92us/step - loss: 0.0453 - acc: 0.7541\n",
      "Epoch 50/200\n",
      "362/362 [==============================] - 0s 90us/step - loss: 0.0452 - acc: 0.7514\n",
      "Epoch 51/200\n",
      "362/362 [==============================] - 0s 88us/step - loss: 0.0451 - acc: 0.7541\n",
      "Epoch 52/200\n",
      "362/362 [==============================] - 0s 87us/step - loss: 0.0452 - acc: 0.7597\n",
      "Epoch 53/200\n",
      "362/362 [==============================] - 0s 92us/step - loss: 0.0452 - acc: 0.7459\n",
      "Epoch 54/200\n",
      "362/362 [==============================] - 0s 85us/step - loss: 0.0452 - acc: 0.7597\n",
      "Epoch 55/200\n",
      "362/362 [==============================] - 0s 109us/step - loss: 0.0451 - acc: 0.7541\n",
      "Epoch 56/200\n",
      "362/362 [==============================] - 0s 76us/step - loss: 0.0451 - acc: 0.7569\n",
      "Epoch 57/200\n",
      "362/362 [==============================] - 0s 82us/step - loss: 0.0450 - acc: 0.7569\n",
      "Epoch 58/200\n",
      "362/362 [==============================] - 0s 77us/step - loss: 0.0451 - acc: 0.7652\n",
      "Epoch 59/200\n",
      "362/362 [==============================] - 0s 82us/step - loss: 0.0451 - acc: 0.7541\n",
      "Epoch 60/200\n",
      "362/362 [==============================] - 0s 77us/step - loss: 0.0450 - acc: 0.7624\n",
      "Epoch 61/200\n",
      "362/362 [==============================] - 0s 82us/step - loss: 0.0450 - acc: 0.7624\n",
      "Epoch 62/200\n",
      "362/362 [==============================] - 0s 83us/step - loss: 0.0449 - acc: 0.7569\n",
      "Epoch 63/200\n",
      "362/362 [==============================] - 0s 78us/step - loss: 0.0449 - acc: 0.7569\n",
      "Epoch 64/200\n",
      "362/362 [==============================] - 0s 97us/step - loss: 0.0449 - acc: 0.7652\n",
      "Epoch 65/200\n",
      "362/362 [==============================] - 0s 74us/step - loss: 0.0449 - acc: 0.7569\n",
      "Epoch 66/200\n",
      "362/362 [==============================] - 0s 82us/step - loss: 0.0448 - acc: 0.7541\n",
      "Epoch 67/200\n",
      "362/362 [==============================] - 0s 78us/step - loss: 0.0448 - acc: 0.7569\n",
      "Epoch 68/200\n",
      "362/362 [==============================] - 0s 84us/step - loss: 0.0449 - acc: 0.7459\n",
      "Epoch 69/200\n",
      "362/362 [==============================] - 0s 77us/step - loss: 0.0448 - acc: 0.7624\n",
      "Epoch 70/200\n",
      "362/362 [==============================] - 0s 81us/step - loss: 0.0448 - acc: 0.7597\n",
      "Epoch 71/200\n",
      "362/362 [==============================] - 0s 76us/step - loss: 0.0447 - acc: 0.7514\n",
      "Epoch 72/200\n",
      "362/362 [==============================] - 0s 79us/step - loss: 0.0447 - acc: 0.7597\n",
      "Epoch 73/200\n",
      "362/362 [==============================] - 0s 85us/step - loss: 0.0447 - acc: 0.7541\n",
      "Epoch 74/200\n",
      "362/362 [==============================] - 0s 83us/step - loss: 0.0446 - acc: 0.7597\n",
      "Epoch 75/200\n",
      "362/362 [==============================] - 0s 82us/step - loss: 0.0447 - acc: 0.7597\n",
      "Epoch 76/200\n",
      "362/362 [==============================] - 0s 85us/step - loss: 0.0446 - acc: 0.7652\n",
      "Epoch 77/200\n",
      "362/362 [==============================] - 0s 82us/step - loss: 0.0446 - acc: 0.7624\n",
      "Epoch 78/200\n",
      "362/362 [==============================] - 0s 78us/step - loss: 0.0446 - acc: 0.7569\n",
      "Epoch 79/200\n",
      "362/362 [==============================] - 0s 81us/step - loss: 0.0446 - acc: 0.7624\n",
      "Epoch 80/200\n",
      "362/362 [==============================] - 0s 77us/step - loss: 0.0445 - acc: 0.7624\n",
      "Epoch 81/200\n",
      "362/362 [==============================] - 0s 81us/step - loss: 0.0445 - acc: 0.7597\n",
      "Epoch 82/200\n",
      "362/362 [==============================] - 0s 71us/step - loss: 0.0444 - acc: 0.7569\n",
      "Epoch 83/200\n",
      "362/362 [==============================] - 0s 78us/step - loss: 0.0445 - acc: 0.7597\n",
      "Epoch 84/200\n"
     ]
    },
    {
     "name": "stdout",
     "output_type": "stream",
     "text": [
      "362/362 [==============================] - 0s 74us/step - loss: 0.0444 - acc: 0.7569\n",
      "Epoch 85/200\n",
      "362/362 [==============================] - 0s 74us/step - loss: 0.0444 - acc: 0.7597\n",
      "Epoch 86/200\n",
      "362/362 [==============================] - 0s 80us/step - loss: 0.0444 - acc: 0.7652\n",
      "Epoch 87/200\n",
      "362/362 [==============================] - 0s 80us/step - loss: 0.0444 - acc: 0.7541\n",
      "Epoch 88/200\n",
      "362/362 [==============================] - 0s 72us/step - loss: 0.0444 - acc: 0.7514\n",
      "Epoch 89/200\n",
      "362/362 [==============================] - 0s 69us/step - loss: 0.0443 - acc: 0.7541\n",
      "Epoch 90/200\n",
      "362/362 [==============================] - 0s 69us/step - loss: 0.0443 - acc: 0.7541\n",
      "Epoch 91/200\n",
      "362/362 [==============================] - 0s 71us/step - loss: 0.0442 - acc: 0.7680\n",
      "Epoch 92/200\n",
      "362/362 [==============================] - 0s 70us/step - loss: 0.0443 - acc: 0.7597\n",
      "Epoch 93/200\n",
      "362/362 [==============================] - 0s 69us/step - loss: 0.0442 - acc: 0.7569\n",
      "Epoch 94/200\n",
      "362/362 [==============================] - 0s 73us/step - loss: 0.0442 - acc: 0.7680\n",
      "Epoch 95/200\n",
      "362/362 [==============================] - 0s 72us/step - loss: 0.0442 - acc: 0.7569\n",
      "Epoch 96/200\n",
      "362/362 [==============================] - 0s 71us/step - loss: 0.0441 - acc: 0.7680\n",
      "Epoch 97/200\n",
      "362/362 [==============================] - 0s 71us/step - loss: 0.0441 - acc: 0.7624\n",
      "Epoch 98/200\n",
      "362/362 [==============================] - 0s 79us/step - loss: 0.0440 - acc: 0.7624\n",
      "Epoch 99/200\n",
      "362/362 [==============================] - 0s 71us/step - loss: 0.0441 - acc: 0.7624\n",
      "Epoch 100/200\n",
      "362/362 [==============================] - 0s 70us/step - loss: 0.0440 - acc: 0.7707\n",
      "Epoch 101/200\n",
      "362/362 [==============================] - 0s 81us/step - loss: 0.0440 - acc: 0.7680\n",
      "Epoch 102/200\n",
      "362/362 [==============================] - 0s 72us/step - loss: 0.0441 - acc: 0.7597\n",
      "Epoch 103/200\n",
      "362/362 [==============================] - 0s 64us/step - loss: 0.0440 - acc: 0.7541\n",
      "Epoch 104/200\n",
      "362/362 [==============================] - 0s 74us/step - loss: 0.0439 - acc: 0.7624\n",
      "Epoch 105/200\n",
      "362/362 [==============================] - 0s 71us/step - loss: 0.0439 - acc: 0.7652\n",
      "Epoch 106/200\n",
      "362/362 [==============================] - 0s 73us/step - loss: 0.0439 - acc: 0.7624\n",
      "Epoch 107/200\n",
      "362/362 [==============================] - 0s 72us/step - loss: 0.0438 - acc: 0.7624\n",
      "Epoch 108/200\n",
      "362/362 [==============================] - 0s 71us/step - loss: 0.0438 - acc: 0.7624\n",
      "Epoch 109/200\n",
      "362/362 [==============================] - 0s 70us/step - loss: 0.0438 - acc: 0.7652\n",
      "Epoch 110/200\n",
      "362/362 [==============================] - 0s 75us/step - loss: 0.0438 - acc: 0.7652\n",
      "Epoch 111/200\n",
      "362/362 [==============================] - 0s 107us/step - loss: 0.0438 - acc: 0.7597\n",
      "Epoch 112/200\n",
      "362/362 [==============================] - 0s 82us/step - loss: 0.0437 - acc: 0.7652\n",
      "Epoch 113/200\n",
      "362/362 [==============================] - 0s 86us/step - loss: 0.0437 - acc: 0.7652\n",
      "Epoch 114/200\n",
      "362/362 [==============================] - 0s 78us/step - loss: 0.0437 - acc: 0.7597\n",
      "Epoch 115/200\n",
      "362/362 [==============================] - 0s 69us/step - loss: 0.0437 - acc: 0.7680\n",
      "Epoch 116/200\n",
      "362/362 [==============================] - 0s 78us/step - loss: 0.0436 - acc: 0.7597\n",
      "Epoch 117/200\n",
      "362/362 [==============================] - 0s 72us/step - loss: 0.0436 - acc: 0.7624\n",
      "Epoch 118/200\n",
      "362/362 [==============================] - 0s 69us/step - loss: 0.0435 - acc: 0.7707\n",
      "Epoch 119/200\n",
      "362/362 [==============================] - 0s 72us/step - loss: 0.0436 - acc: 0.7652\n",
      "Epoch 120/200\n",
      "362/362 [==============================] - 0s 79us/step - loss: 0.0436 - acc: 0.7597\n",
      "Epoch 121/200\n",
      "362/362 [==============================] - 0s 75us/step - loss: 0.0435 - acc: 0.7652\n",
      "Epoch 122/200\n",
      "362/362 [==============================] - 0s 86us/step - loss: 0.0435 - acc: 0.7680\n",
      "Epoch 123/200\n",
      "362/362 [==============================] - 0s 78us/step - loss: 0.0435 - acc: 0.7707\n",
      "Epoch 124/200\n",
      "362/362 [==============================] - 0s 72us/step - loss: 0.0435 - acc: 0.7680\n",
      "Epoch 125/200\n",
      "362/362 [==============================] - 0s 72us/step - loss: 0.0434 - acc: 0.7707\n",
      "Epoch 126/200\n",
      "362/362 [==============================] - 0s 77us/step - loss: 0.0434 - acc: 0.7652\n",
      "Epoch 127/200\n",
      "362/362 [==============================] - 0s 79us/step - loss: 0.0433 - acc: 0.7680\n",
      "Epoch 128/200\n",
      "362/362 [==============================] - 0s 69us/step - loss: 0.0434 - acc: 0.7680\n",
      "Epoch 129/200\n",
      "362/362 [==============================] - 0s 83us/step - loss: 0.0433 - acc: 0.7652\n",
      "Epoch 130/200\n",
      "362/362 [==============================] - 0s 73us/step - loss: 0.0433 - acc: 0.7680\n",
      "Epoch 131/200\n",
      "362/362 [==============================] - 0s 79us/step - loss: 0.0433 - acc: 0.7680\n",
      "Epoch 132/200\n",
      "362/362 [==============================] - 0s 78us/step - loss: 0.0432 - acc: 0.7624\n",
      "Epoch 133/200\n",
      "362/362 [==============================] - 0s 72us/step - loss: 0.0433 - acc: 0.7652\n",
      "Epoch 134/200\n",
      "362/362 [==============================] - 0s 80us/step - loss: 0.0432 - acc: 0.7680\n",
      "Epoch 135/200\n",
      "362/362 [==============================] - 0s 79us/step - loss: 0.0433 - acc: 0.7624\n",
      "Epoch 136/200\n",
      "362/362 [==============================] - 0s 83us/step - loss: 0.0432 - acc: 0.7680\n",
      "Epoch 137/200\n",
      "362/362 [==============================] - 0s 81us/step - loss: 0.0431 - acc: 0.7597\n",
      "Epoch 138/200\n",
      "362/362 [==============================] - 0s 82us/step - loss: 0.0432 - acc: 0.7652\n",
      "Epoch 139/200\n",
      "362/362 [==============================] - 0s 69us/step - loss: 0.0432 - acc: 0.7652\n",
      "Epoch 140/200\n",
      "362/362 [==============================] - 0s 67us/step - loss: 0.0431 - acc: 0.7597\n",
      "Epoch 141/200\n",
      "362/362 [==============================] - 0s 74us/step - loss: 0.0430 - acc: 0.7652\n",
      "Epoch 142/200\n",
      "362/362 [==============================] - 0s 77us/step - loss: 0.0430 - acc: 0.7680\n",
      "Epoch 143/200\n",
      "362/362 [==============================] - 0s 71us/step - loss: 0.0431 - acc: 0.7624\n",
      "Epoch 144/200\n",
      "362/362 [==============================] - 0s 74us/step - loss: 0.0430 - acc: 0.7624\n",
      "Epoch 145/200\n",
      "362/362 [==============================] - 0s 94us/step - loss: 0.0430 - acc: 0.7680\n",
      "Epoch 146/200\n",
      "362/362 [==============================] - 0s 82us/step - loss: 0.0430 - acc: 0.7680\n",
      "Epoch 147/200\n",
      "362/362 [==============================] - 0s 82us/step - loss: 0.0430 - acc: 0.7624\n",
      "Epoch 148/200\n",
      "362/362 [==============================] - 0s 80us/step - loss: 0.0429 - acc: 0.7624\n",
      "Epoch 149/200\n",
      "362/362 [==============================] - 0s 68us/step - loss: 0.0429 - acc: 0.7652\n",
      "Epoch 150/200\n",
      "362/362 [==============================] - 0s 72us/step - loss: 0.0429 - acc: 0.7624\n",
      "Epoch 151/200\n",
      "362/362 [==============================] - 0s 68us/step - loss: 0.0429 - acc: 0.7652\n",
      "Epoch 152/200\n",
      "362/362 [==============================] - 0s 76us/step - loss: 0.0428 - acc: 0.7652\n",
      "Epoch 153/200\n",
      "362/362 [==============================] - 0s 78us/step - loss: 0.0428 - acc: 0.7735\n",
      "Epoch 154/200\n",
      "362/362 [==============================] - 0s 74us/step - loss: 0.0427 - acc: 0.7624\n",
      "Epoch 155/200\n",
      "362/362 [==============================] - 0s 67us/step - loss: 0.0428 - acc: 0.7652\n",
      "Epoch 156/200\n",
      "362/362 [==============================] - 0s 72us/step - loss: 0.0428 - acc: 0.7652\n",
      "Epoch 157/200\n",
      "362/362 [==============================] - 0s 76us/step - loss: 0.0427 - acc: 0.7680\n",
      "Epoch 158/200\n",
      "362/362 [==============================] - 0s 72us/step - loss: 0.0427 - acc: 0.7652\n",
      "Epoch 159/200\n",
      "362/362 [==============================] - 0s 75us/step - loss: 0.0427 - acc: 0.7624\n",
      "Epoch 160/200\n",
      "362/362 [==============================] - 0s 73us/step - loss: 0.0427 - acc: 0.7680\n",
      "Epoch 161/200\n",
      "362/362 [==============================] - 0s 74us/step - loss: 0.0427 - acc: 0.7707\n",
      "Epoch 162/200\n",
      "362/362 [==============================] - 0s 80us/step - loss: 0.0426 - acc: 0.7652\n",
      "Epoch 163/200\n",
      "362/362 [==============================] - 0s 72us/step - loss: 0.0426 - acc: 0.7707\n",
      "Epoch 164/200\n",
      "362/362 [==============================] - 0s 79us/step - loss: 0.0426 - acc: 0.7652\n",
      "Epoch 165/200\n",
      "362/362 [==============================] - 0s 73us/step - loss: 0.0426 - acc: 0.7652\n",
      "Epoch 166/200\n",
      "362/362 [==============================] - 0s 74us/step - loss: 0.0424 - acc: 0.7680\n",
      "Epoch 167/200\n"
     ]
    },
    {
     "name": "stdout",
     "output_type": "stream",
     "text": [
      "362/362 [==============================] - 0s 65us/step - loss: 0.0426 - acc: 0.7680\n",
      "Epoch 168/200\n",
      "362/362 [==============================] - 0s 69us/step - loss: 0.0425 - acc: 0.7680\n",
      "Epoch 169/200\n",
      "362/362 [==============================] - 0s 84us/step - loss: 0.0425 - acc: 0.7707\n",
      "Epoch 170/200\n",
      "362/362 [==============================] - 0s 81us/step - loss: 0.0425 - acc: 0.7680\n",
      "Epoch 171/200\n",
      "362/362 [==============================] - 0s 72us/step - loss: 0.0425 - acc: 0.7680\n",
      "Epoch 172/200\n",
      "362/362 [==============================] - 0s 69us/step - loss: 0.0424 - acc: 0.7597\n",
      "Epoch 173/200\n",
      "362/362 [==============================] - 0s 68us/step - loss: 0.0424 - acc: 0.7680\n",
      "Epoch 174/200\n",
      "362/362 [==============================] - 0s 67us/step - loss: 0.0424 - acc: 0.7652\n",
      "Epoch 175/200\n",
      "362/362 [==============================] - 0s 68us/step - loss: 0.0424 - acc: 0.7735\n",
      "Epoch 176/200\n",
      "362/362 [==============================] - 0s 71us/step - loss: 0.0423 - acc: 0.7624\n",
      "Epoch 177/200\n",
      "362/362 [==============================] - 0s 69us/step - loss: 0.0423 - acc: 0.7624\n",
      "Epoch 178/200\n",
      "362/362 [==============================] - 0s 70us/step - loss: 0.0423 - acc: 0.7680\n",
      "Epoch 179/200\n",
      "362/362 [==============================] - 0s 82us/step - loss: 0.0422 - acc: 0.7707\n",
      "Epoch 180/200\n",
      "362/362 [==============================] - 0s 75us/step - loss: 0.0422 - acc: 0.7624\n",
      "Epoch 181/200\n",
      "362/362 [==============================] - 0s 71us/step - loss: 0.0423 - acc: 0.7652\n",
      "Epoch 182/200\n",
      "362/362 [==============================] - 0s 79us/step - loss: 0.0422 - acc: 0.7707\n",
      "Epoch 183/200\n",
      "362/362 [==============================] - 0s 72us/step - loss: 0.0422 - acc: 0.7652\n",
      "Epoch 184/200\n",
      "362/362 [==============================] - ETA: 0s - loss: 0.0489 - acc: 0.750 - 0s 90us/step - loss: 0.0421 - acc: 0.7707\n",
      "Epoch 185/200\n",
      "362/362 [==============================] - 0s 87us/step - loss: 0.0422 - acc: 0.7735\n",
      "Epoch 186/200\n",
      "362/362 [==============================] - 0s 83us/step - loss: 0.0421 - acc: 0.7680\n",
      "Epoch 187/200\n",
      "362/362 [==============================] - 0s 98us/step - loss: 0.0421 - acc: 0.7569\n",
      "Epoch 188/200\n",
      "362/362 [==============================] - 0s 85us/step - loss: 0.0420 - acc: 0.7652\n",
      "Epoch 189/200\n",
      "362/362 [==============================] - 0s 77us/step - loss: 0.0421 - acc: 0.7707\n",
      "Epoch 190/200\n",
      "362/362 [==============================] - 0s 88us/step - loss: 0.0420 - acc: 0.7680\n",
      "Epoch 191/200\n",
      "362/362 [==============================] - 0s 76us/step - loss: 0.0420 - acc: 0.7624\n",
      "Epoch 192/200\n",
      "362/362 [==============================] - 0s 72us/step - loss: 0.0420 - acc: 0.7707\n",
      "Epoch 193/200\n",
      "362/362 [==============================] - 0s 66us/step - loss: 0.0419 - acc: 0.7707\n",
      "Epoch 194/200\n",
      "362/362 [==============================] - 0s 73us/step - loss: 0.0419 - acc: 0.7762\n",
      "Epoch 195/200\n",
      "362/362 [==============================] - 0s 68us/step - loss: 0.0419 - acc: 0.7652\n",
      "Epoch 196/200\n",
      "362/362 [==============================] - 0s 71us/step - loss: 0.0419 - acc: 0.7707\n",
      "Epoch 197/200\n",
      "362/362 [==============================] - 0s 68us/step - loss: 0.0419 - acc: 0.7652\n",
      "Epoch 198/200\n",
      "362/362 [==============================] - 0s 66us/step - loss: 0.0418 - acc: 0.7707\n",
      "Epoch 199/200\n",
      "362/362 [==============================] - 0s 69us/step - loss: 0.0419 - acc: 0.7597\n",
      "Epoch 200/200\n",
      "362/362 [==============================] - 0s 71us/step - loss: 0.0418 - acc: 0.7624\n"
     ]
    },
    {
     "data": {
      "text/plain": [
       "<keras.callbacks.History at 0x12b9f2eb8>"
      ]
     },
     "execution_count": 22,
     "metadata": {},
     "output_type": "execute_result"
    }
   ],
   "source": [
    "model.fit(x_train, y_train,epochs=200, batch_size=12)"
   ]
  },
  {
   "cell_type": "code",
   "execution_count": 23,
   "metadata": {},
   "outputs": [
    {
     "name": "stdout",
     "output_type": "stream",
     "text": [
      "362/362 [==============================] - 0s 115us/step\n",
      "test loss:  0.04143154811505125\n",
      "test accuracy:  0.7651933704950533\n"
     ]
    }
   ],
   "source": [
    "loss, accuracy = model.evaluate(x_train, y_train)\n",
    "\n",
    "print('test loss: ', loss)\n",
    "print('test accuracy: ', accuracy)\n"
   ]
  },
  {
   "cell_type": "code",
   "execution_count": null,
   "metadata": {},
   "outputs": [],
   "source": []
  },
  {
   "cell_type": "code",
   "execution_count": null,
   "metadata": {},
   "outputs": [],
   "source": []
  },
  {
   "cell_type": "code",
   "execution_count": null,
   "metadata": {},
   "outputs": [],
   "source": []
  }
 ],
 "metadata": {
  "kernelspec": {
   "display_name": "Python 3",
   "language": "python",
   "name": "python3"
  },
  "language_info": {
   "codemirror_mode": {
    "name": "ipython",
    "version": 3
   },
   "file_extension": ".py",
   "mimetype": "text/x-python",
   "name": "python",
   "nbconvert_exporter": "python",
   "pygments_lexer": "ipython3",
   "version": "3.6.4"
  }
 },
 "nbformat": 4,
 "nbformat_minor": 2
}
